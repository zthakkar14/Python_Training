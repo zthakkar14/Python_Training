{
 "cells": [
  {
   "cell_type": "code",
   "execution_count": 1,
   "metadata": {},
   "outputs": [
    {
     "name": "stdout",
     "output_type": "stream",
     "text": [
      "The square root of 36 is 6\n"
     ]
    }
   ],
   "source": [
    "import math\n",
    "\n",
    "number = 36\n",
    "\n",
    "result = int(math.sqrt(number))\n",
    "\n",
    "print(f'The square root of {number} is {result}')"
   ]
  },
  {
   "cell_type": "code",
   "execution_count": 2,
   "metadata": {},
   "outputs": [
    {
     "name": "stdout",
     "output_type": "stream",
     "text": [
      "3 raised to the power of 4 is 81\n"
     ]
    }
   ],
   "source": [
    "base = 3\n",
    "exponent = 4\n",
    "\n",
    "result = int(math.pow(base, exponent))\n",
    "print(f\"{base} raised to the power of {exponent} is {result}\")"
   ]
  },
  {
   "cell_type": "code",
   "execution_count": 3,
   "metadata": {},
   "outputs": [
    {
     "name": "stdout",
     "output_type": "stream",
     "text": [
      "The value of pi is 3.141592653589793\n"
     ]
    }
   ],
   "source": [
    "# pi values = 3.14159\n",
    "\n",
    "print('The value of pi is', math.pi)"
   ]
  },
  {
   "cell_type": "code",
   "execution_count": 20,
   "metadata": {},
   "outputs": [
    {
     "name": "stdout",
     "output_type": "stream",
     "text": [
      "hgjirjnx\n"
     ]
    }
   ],
   "source": [
    "import random\n",
    "password = 'abcdefghijklmnopqrstuvwxyz!@#$%^&*123456789'\n",
    "random_password = random.choice(password) + random.choice(password) + random.choice(password) + random.choice(password) + random.choice(password) + random.choice(password) + random.choice(password) + random.choice(password)\n",
    "print(random_password)"
   ]
  },
  {
   "cell_type": "code",
   "execution_count": 23,
   "metadata": {},
   "outputs": [
    {
     "name": "stdout",
     "output_type": "stream",
     "text": [
      "['Blue', 'White', 'Black']\n"
     ]
    }
   ],
   "source": [
    "list = [\"Red\", \"Green\", \"Blue\", \"Yellow\", \"Black\", \"White\"]\n",
    "selection = random.sample(list,3)\n",
    "print(selection)"
   ]
  },
  {
   "cell_type": "code",
   "execution_count": 40,
   "metadata": {},
   "outputs": [
    {
     "name": "stdout",
     "output_type": "stream",
     "text": [
      "5 6\n",
      "11\n"
     ]
    }
   ],
   "source": [
    "Dice1 = random.randint(1,6)\n",
    "Dice2 = random.randint(1,6)\n",
    "print(Dice1 , Dice2)\n",
    "sum = Dice1 + Dice2\n",
    "print(sum)"
   ]
  },
  {
   "cell_type": "code",
   "execution_count": 53,
   "metadata": {},
   "outputs": [
    {
     "name": "stdout",
     "output_type": "stream",
     "text": [
      "Chinese\n"
     ]
    }
   ],
   "source": [
    "cuisines = [\"Italian\", \"Chinese\", \"Mexican\", \"Indian\"]\n",
    "random_cuisines = random.choice(cuisines)\n",
    "\n",
    "print(random_cuisines)"
   ]
  }
 ],
 "metadata": {
  "kernelspec": {
   "display_name": "Python 3",
   "language": "python",
   "name": "python3"
  },
  "language_info": {
   "codemirror_mode": {
    "name": "ipython",
    "version": 3
   },
   "file_extension": ".py",
   "mimetype": "text/x-python",
   "name": "python",
   "nbconvert_exporter": "python",
   "pygments_lexer": "ipython3",
   "version": "3.13.1"
  }
 },
 "nbformat": 4,
 "nbformat_minor": 2
}
