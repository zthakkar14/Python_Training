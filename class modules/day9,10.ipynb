{
 "cells": [
  {
   "cell_type": "markdown",
   "metadata": {},
   "source": [
    "# Introduction to Loops"
   ]
  },
  {
   "cell_type": "markdown",
   "metadata": {},
   "source": [
    "A loop lets you repeat a block of code multiple times without rewriting it.\n",
    "\n",
    "There are two types of loop in Python:\n",
    "1. for loop\n",
    "2. while loop"
   ]
  },
  {
   "cell_type": "markdown",
   "metadata": {},
   "source": [
    "### for loop\n",
    "\n",
    "A for loop helps to \n",
    "- Repeat a task.\n",
    "- Goes through each item in a group(list, string)"
   ]
  },
  {
   "cell_type": "markdown",
   "metadata": {},
   "source": [
    "#### Example no 1\n",
    "\n",
    "Using range() for prining numbers from 1 to 100."
   ]
  },
  {
   "cell_type": "code",
   "execution_count": 5,
   "metadata": {},
   "outputs": [
    {
     "name": "stdout",
     "output_type": "stream",
     "text": [
      "1\n",
      "2\n",
      "3\n",
      "4\n",
      "5\n",
      "6\n",
      "7\n",
      "8\n",
      "9\n",
      "10\n",
      "11\n",
      "12\n",
      "13\n",
      "14\n",
      "15\n",
      "16\n",
      "17\n",
      "18\n",
      "19\n",
      "20\n",
      "21\n",
      "22\n",
      "23\n",
      "24\n",
      "25\n",
      "26\n",
      "27\n",
      "28\n",
      "29\n",
      "30\n",
      "31\n",
      "32\n",
      "33\n",
      "34\n",
      "35\n",
      "36\n",
      "37\n",
      "38\n",
      "39\n",
      "40\n",
      "41\n",
      "42\n",
      "43\n",
      "44\n",
      "45\n",
      "46\n",
      "47\n",
      "48\n",
      "49\n",
      "50\n",
      "51\n",
      "52\n",
      "53\n",
      "54\n",
      "55\n",
      "56\n",
      "57\n",
      "58\n",
      "59\n",
      "60\n",
      "61\n",
      "62\n",
      "63\n",
      "64\n",
      "65\n",
      "66\n",
      "67\n",
      "68\n",
      "69\n",
      "70\n",
      "71\n",
      "72\n",
      "73\n",
      "74\n",
      "75\n",
      "76\n",
      "77\n",
      "78\n",
      "79\n",
      "80\n",
      "81\n",
      "82\n",
      "83\n",
      "84\n",
      "85\n",
      "86\n",
      "87\n",
      "88\n",
      "89\n",
      "90\n",
      "91\n",
      "92\n",
      "93\n",
      "94\n",
      "95\n",
      "96\n",
      "97\n",
      "98\n",
      "99\n",
      "100\n"
     ]
    }
   ],
   "source": [
    "''' You want to print from 1 to 100, instead of writing 100 print statement, you can use for loop.\n",
    "Here's the code: '''\n",
    "\n",
    "\n",
    "# for: The for keyword is used to start the loop, it tells Python to repeat a block of code.\n",
    "# number: This is a variable that holds the current item. Here number will take values from 1 to 100 (one by one)\n",
    "# in: The in keyword connect variable with the range function\n",
    "# range(1: 101): It generate number starting from 1 upto 101 (but not including 101.) Start: 1 and Stop: 101\n",
    "# prin(number): Inside the loop, this is the code that will run each time the loop iterates.\n",
    "\n",
    "for number in range(1, 101): # 1, 2, 3, ...., 100\n",
    "    print(number)\n"
   ]
  },
  {
   "cell_type": "code",
   "execution_count": 3,
   "metadata": {},
   "outputs": [
    {
     "name": "stdout",
     "output_type": "stream",
     "text": [
      "5\n",
      "6\n",
      "7\n",
      "8\n",
      "9\n",
      "10\n",
      "11\n",
      "12\n",
      "13\n",
      "14\n",
      "15\n",
      "16\n",
      "17\n",
      "18\n",
      "19\n",
      "20\n",
      "21\n",
      "22\n",
      "23\n",
      "24\n",
      "25\n",
      "26\n",
      "27\n",
      "28\n",
      "29\n",
      "30\n",
      "31\n",
      "32\n",
      "33\n",
      "34\n",
      "35\n",
      "36\n",
      "37\n",
      "38\n",
      "39\n",
      "40\n",
      "41\n",
      "42\n",
      "43\n",
      "44\n",
      "45\n",
      "46\n",
      "47\n",
      "48\n",
      "49\n",
      "50\n",
      "51\n",
      "52\n",
      "53\n",
      "54\n",
      "55\n",
      "56\n",
      "57\n",
      "58\n",
      "59\n",
      "60\n",
      "61\n",
      "62\n",
      "63\n",
      "64\n",
      "65\n",
      "66\n",
      "67\n",
      "68\n",
      "69\n",
      "70\n",
      "71\n",
      "72\n",
      "73\n",
      "74\n",
      "75\n",
      "76\n",
      "77\n",
      "78\n",
      "79\n",
      "80\n",
      "81\n",
      "82\n",
      "83\n",
      "84\n",
      "85\n",
      "86\n",
      "87\n",
      "88\n",
      "89\n",
      "90\n",
      "91\n",
      "92\n",
      "93\n",
      "94\n",
      "95\n",
      "96\n",
      "97\n",
      "98\n",
      "99\n",
      "100\n"
     ]
    }
   ],
   "source": [
    "for number in range(5, 101): # 5, 6, 7, ...., 100\n",
    "    print(number)"
   ]
  },
  {
   "cell_type": "code",
   "execution_count": 14,
   "metadata": {},
   "outputs": [
    {
     "name": "stdout",
     "output_type": "stream",
     "text": [
      "10\n",
      "9\n",
      "8\n",
      "7\n",
      "6\n",
      "5\n",
      "4\n",
      "3\n",
      "2\n"
     ]
    }
   ],
   "source": [
    "# I want to print like this: 10, 9, 8, 7, 6, ...., 1\n",
    "\n",
    "for i in range(10, 1, -1):\n",
    "    print(i)\n",
    "    \n",
    "# Start at 10\n",
    "# End at 1\n",
    "# Step by -1 which means move backward by 1 each time"
   ]
  },
  {
   "cell_type": "markdown",
   "metadata": {},
   "source": [
    "#### Example no 2\n",
    "\n",
    "Repeating something multiple times"
   ]
  },
  {
   "cell_type": "markdown",
   "metadata": {},
   "source": [
    "'I am sorry, i will not do this again' 100 times"
   ]
  },
  {
   "cell_type": "code",
   "execution_count": 4,
   "metadata": {},
   "outputs": [
    {
     "name": "stdout",
     "output_type": "stream",
     "text": [
      "0. I am sorry, i will not do this again\n",
      "1. I am sorry, i will not do this again\n",
      "2. I am sorry, i will not do this again\n",
      "3. I am sorry, i will not do this again\n",
      "4. I am sorry, i will not do this again\n",
      "5. I am sorry, i will not do this again\n",
      "6. I am sorry, i will not do this again\n",
      "7. I am sorry, i will not do this again\n",
      "8. I am sorry, i will not do this again\n",
      "9. I am sorry, i will not do this again\n",
      "10. I am sorry, i will not do this again\n",
      "11. I am sorry, i will not do this again\n",
      "12. I am sorry, i will not do this again\n",
      "13. I am sorry, i will not do this again\n",
      "14. I am sorry, i will not do this again\n",
      "15. I am sorry, i will not do this again\n",
      "16. I am sorry, i will not do this again\n",
      "17. I am sorry, i will not do this again\n",
      "18. I am sorry, i will not do this again\n",
      "19. I am sorry, i will not do this again\n",
      "20. I am sorry, i will not do this again\n",
      "21. I am sorry, i will not do this again\n",
      "22. I am sorry, i will not do this again\n",
      "23. I am sorry, i will not do this again\n",
      "24. I am sorry, i will not do this again\n",
      "25. I am sorry, i will not do this again\n",
      "26. I am sorry, i will not do this again\n",
      "27. I am sorry, i will not do this again\n",
      "28. I am sorry, i will not do this again\n",
      "29. I am sorry, i will not do this again\n",
      "30. I am sorry, i will not do this again\n",
      "31. I am sorry, i will not do this again\n",
      "32. I am sorry, i will not do this again\n",
      "33. I am sorry, i will not do this again\n",
      "34. I am sorry, i will not do this again\n",
      "35. I am sorry, i will not do this again\n",
      "36. I am sorry, i will not do this again\n",
      "37. I am sorry, i will not do this again\n",
      "38. I am sorry, i will not do this again\n",
      "39. I am sorry, i will not do this again\n",
      "40. I am sorry, i will not do this again\n",
      "41. I am sorry, i will not do this again\n",
      "42. I am sorry, i will not do this again\n",
      "43. I am sorry, i will not do this again\n",
      "44. I am sorry, i will not do this again\n",
      "45. I am sorry, i will not do this again\n",
      "46. I am sorry, i will not do this again\n",
      "47. I am sorry, i will not do this again\n",
      "48. I am sorry, i will not do this again\n",
      "49. I am sorry, i will not do this again\n",
      "50. I am sorry, i will not do this again\n",
      "51. I am sorry, i will not do this again\n",
      "52. I am sorry, i will not do this again\n",
      "53. I am sorry, i will not do this again\n",
      "54. I am sorry, i will not do this again\n",
      "55. I am sorry, i will not do this again\n",
      "56. I am sorry, i will not do this again\n",
      "57. I am sorry, i will not do this again\n",
      "58. I am sorry, i will not do this again\n",
      "59. I am sorry, i will not do this again\n",
      "60. I am sorry, i will not do this again\n",
      "61. I am sorry, i will not do this again\n",
      "62. I am sorry, i will not do this again\n",
      "63. I am sorry, i will not do this again\n",
      "64. I am sorry, i will not do this again\n",
      "65. I am sorry, i will not do this again\n",
      "66. I am sorry, i will not do this again\n",
      "67. I am sorry, i will not do this again\n",
      "68. I am sorry, i will not do this again\n",
      "69. I am sorry, i will not do this again\n",
      "70. I am sorry, i will not do this again\n",
      "71. I am sorry, i will not do this again\n",
      "72. I am sorry, i will not do this again\n",
      "73. I am sorry, i will not do this again\n",
      "74. I am sorry, i will not do this again\n",
      "75. I am sorry, i will not do this again\n",
      "76. I am sorry, i will not do this again\n",
      "77. I am sorry, i will not do this again\n",
      "78. I am sorry, i will not do this again\n",
      "79. I am sorry, i will not do this again\n",
      "80. I am sorry, i will not do this again\n",
      "81. I am sorry, i will not do this again\n",
      "82. I am sorry, i will not do this again\n",
      "83. I am sorry, i will not do this again\n",
      "84. I am sorry, i will not do this again\n",
      "85. I am sorry, i will not do this again\n",
      "86. I am sorry, i will not do this again\n",
      "87. I am sorry, i will not do this again\n",
      "88. I am sorry, i will not do this again\n",
      "89. I am sorry, i will not do this again\n",
      "90. I am sorry, i will not do this again\n",
      "91. I am sorry, i will not do this again\n",
      "92. I am sorry, i will not do this again\n",
      "93. I am sorry, i will not do this again\n",
      "94. I am sorry, i will not do this again\n",
      "95. I am sorry, i will not do this again\n",
      "96. I am sorry, i will not do this again\n",
      "97. I am sorry, i will not do this again\n",
      "98. I am sorry, i will not do this again\n",
      "99. I am sorry, i will not do this again\n"
     ]
    }
   ],
   "source": [
    "for i in range(100):  # Here range generates: 0, 1, 2, 3, 4, ....., 99\n",
    "    print(f'{i}. I am sorry, i will not do this again')\n",
    "    \n",
    "    \n",
    "# FIrst iteration, i = 0\n",
    "# Second iteration, i = 1\n",
    "# .\n",
    "# .\n",
    "# .\n",
    "# THis continue until i become 99"
   ]
  },
  {
   "cell_type": "markdown",
   "metadata": {},
   "source": [
    "#### Example no 3\n",
    "\n",
    "Printing each character in a string"
   ]
  },
  {
   "cell_type": "code",
   "execution_count": 5,
   "metadata": {},
   "outputs": [
    {
     "name": "stdout",
     "output_type": "stream",
     "text": [
      "h\n",
      "e\n"
     ]
    }
   ],
   "source": [
    "# hello\n",
    "\n",
    "text = 'hello'\n",
    "\n",
    "print(text[0])\n",
    "print(text[1])"
   ]
  },
  {
   "cell_type": "code",
   "execution_count": 9,
   "metadata": {},
   "outputs": [
    {
     "name": "stdout",
     "output_type": "stream",
     "text": [
      "U\n",
      "z\n",
      "a\n",
      "i\n",
      "r\n"
     ]
    },
    {
     "data": {
      "text/plain": [
       "' \\nFirst Iteration: character = h\\nSecond iteration: character = e\\nThird iteration: character = l\\n'"
      ]
     },
     "execution_count": 9,
     "metadata": {},
     "output_type": "execute_result"
    }
   ],
   "source": [
    "for character in 'Uzair':  \n",
    "    print(character)\n",
    "    \n",
    "    \n",
    "''' \n",
    "First Iteration: character = h\n",
    "Second iteration: character = e\n",
    "Third iteration: character = l\n",
    "'''"
   ]
  },
  {
   "cell_type": "markdown",
   "metadata": {},
   "source": [
    "##### Example 4\n",
    "\n",
    "Looping through a list."
   ]
  },
  {
   "cell_type": "code",
   "execution_count": 8,
   "metadata": {},
   "outputs": [
    {
     "name": "stdout",
     "output_type": "stream",
     "text": [
      "Apple\n",
      "Cherry\n",
      "Kiwi\n",
      "Pineapple\n"
     ]
    }
   ],
   "source": [
    "fruits = ['Apple', 'Cherry', 'Kiwi', 'Pineapple']\n",
    "\n",
    "for fruit in fruits:\n",
    "    print(fruit)\n",
    "    "
   ]
  },
  {
   "cell_type": "markdown",
   "metadata": {},
   "source": [
    "#### Example no 5\n",
    "\n",
    "You want to thank multiple friends"
   ]
  },
  {
   "cell_type": "code",
   "execution_count": 15,
   "metadata": {},
   "outputs": [
    {
     "name": "stdout",
     "output_type": "stream",
     "text": [
      "Thank you, Ali!\n",
      "Thank you, Rohit!\n",
      "Thank you, Ahmed!\n",
      "Thank you, Ibrahim!\n",
      "Thank you, Heet!\n"
     ]
    }
   ],
   "source": [
    "'''\n",
    "Thank you, Ali!\n",
    "Thank you, Rohit!\n",
    "Thank you, Ahmed!\n",
    "Thank you, Ibrahim!\n",
    "'''\n",
    "\n",
    "friends = ['Ali', 'Rohit', 'Ahmed', 'Ibrahim', 'Heet']\n",
    "\n",
    "for friend in friends:  # ALi\n",
    "    print(f\"Thank you, {friend}!\")"
   ]
  },
  {
   "cell_type": "markdown",
   "metadata": {},
   "source": [
    "#### Example no 6\n",
    "\n",
    "Squaring numbers"
   ]
  },
  {
   "cell_type": "code",
   "execution_count": 12,
   "metadata": {},
   "outputs": [
    {
     "name": "stdout",
     "output_type": "stream",
     "text": [
      "The square of 1 is 1\n",
      "The square of 2 is 4\n",
      "The square of 3 is 9\n",
      "The square of 4 is 16\n",
      "The square of 5 is 25\n"
     ]
    }
   ],
   "source": [
    "numbers = [1, 2, 3, 4, 5]\n",
    "\n",
    "''' \n",
    "1\n",
    "4\n",
    "9\n",
    "16\n",
    "25\n",
    "'''\n",
    "# First iteration: number=2\n",
    "\n",
    "for number in numbers:\n",
    "    print(f\"The square of {number} is {number**2}\")"
   ]
  },
  {
   "cell_type": "markdown",
   "metadata": {},
   "source": [
    "#### Example no 7\n",
    "\n"
   ]
  },
  {
   "cell_type": "code",
   "execution_count": 16,
   "metadata": {},
   "outputs": [
    {
     "name": "stdout",
     "output_type": "stream",
     "text": [
      "ALI\n",
      "ROHIT\n",
      "AHMED\n",
      "IBRAHIM\n",
      "HEET\n"
     ]
    }
   ],
   "source": [
    "friends = ['Ali', 'Rohit', 'Ahmed', 'Ibrahim', 'Heet']\n",
    "\n",
    "for friend in friends:\n",
    "    print(friend.upper())"
   ]
  },
  {
   "cell_type": "markdown",
   "metadata": {},
   "source": [
    "#### Example no 8\n",
    "\n",
    "Print a table of 5\n",
    "\n",
    "    5 x 1 = 5\n",
    "    5 x 2 = 10"
   ]
  },
  {
   "cell_type": "code",
   "execution_count": 17,
   "metadata": {},
   "outputs": [
    {
     "name": "stdout",
     "output_type": "stream",
     "text": [
      "5 x 1 = 5\n",
      "5 x 2 = 10\n",
      "5 x 3 = 15\n",
      "5 x 4 = 20\n",
      "5 x 5 = 25\n",
      "5 x 6 = 30\n",
      "5 x 7 = 35\n",
      "5 x 8 = 40\n",
      "5 x 9 = 45\n",
      "5 x 10 = 50\n"
     ]
    }
   ],
   "source": [
    "for i in range(1, 11):\n",
    "    print(f\"5 x {i} = {5 * i}\")\n",
    "    \n",
    " # i = 1;  5 x 1 = 5\n",
    " # i = 2;  5 x 2 = 10"
   ]
  },
  {
   "cell_type": "code",
   "execution_count": null,
   "metadata": {},
   "outputs": [],
   "source": []
  }
 ],
 "metadata": {
  "kernelspec": {
   "display_name": "Python 3",
   "language": "python",
   "name": "python3"
  },
  "language_info": {
   "codemirror_mode": {
    "name": "ipython",
    "version": 3
   },
   "file_extension": ".py",
   "mimetype": "text/x-python",
   "name": "python",
   "nbconvert_exporter": "python",
   "pygments_lexer": "ipython3",
   "version": "3.12.0"
  }
 },
 "nbformat": 4,
 "nbformat_minor": 2
}
