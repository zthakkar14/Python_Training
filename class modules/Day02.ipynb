{
 "cells": [
  {
   "cell_type": "markdown",
   "metadata": {},
   "source": [
    "# Printing"
   ]
  },
  {
   "cell_type": "code",
   "execution_count": 1,
   "metadata": {},
   "outputs": [
    {
     "name": "stdout",
     "output_type": "stream",
     "text": [
      "Hello World!\n"
     ]
    }
   ],
   "source": [
    "print(\"Hello World!\")"
   ]
  },
  {
   "cell_type": "markdown",
   "metadata": {},
   "source": [
    "# Data Types"
   ]
  },
  {
   "cell_type": "markdown",
   "metadata": {},
   "source": [
    "Data Types tells Python what kind of data we are working with.\n",
    "\n",
    "Common Types of Data Types in Python are:\n",
    "\n",
    "- Integer: These are the whole numbers. (2, 4, 3, -1, 82)\n",
    "- Float: These are the decimal numbers. (3.14, 9.99, -0.5)\n",
    "- String: Combination of Character and is always in quotation marks. ('Python', 'Hello', '3.14')\n",
    "- Boolean: This type is for True or False values. "
   ]
  },
  {
   "cell_type": "code",
   "execution_count": 4,
   "metadata": {},
   "outputs": [],
   "source": [
    "a = 7 # Int\n",
    "b = 'WOW' # String\n",
    "c = True # Bool\n",
    "d = '27' # String\n",
    "e = 70.5 # Float"
   ]
  },
  {
   "cell_type": "code",
   "execution_count": 7,
   "metadata": {},
   "outputs": [
    {
     "name": "stdout",
     "output_type": "stream",
     "text": [
      "<class 'bool'>\n"
     ]
    }
   ],
   "source": [
    "print(type(c))"
   ]
  },
  {
   "cell_type": "markdown",
   "metadata": {},
   "source": [
    "# Variables"
   ]
  },
  {
   "cell_type": "code",
   "execution_count": 8,
   "metadata": {},
   "outputs": [
    {
     "name": "stdout",
     "output_type": "stream",
     "text": [
      "26\n",
      "Uzair\n",
      "True\n"
     ]
    }
   ],
   "source": [
    "# a is variable\n",
    "# 7 is the data that we are in storing in variable a\n",
    "\n",
    "age = 26\n",
    "name = 'Uzair'\n",
    "is_happy = True\n",
    "\n",
    "print(age)\n",
    "print(name)\n",
    "print(is_happy)"
   ]
  },
  {
   "cell_type": "markdown",
   "metadata": {},
   "source": [
    "# Operations (Addition, Subtraction, Multiplication and Division)"
   ]
  },
  {
   "cell_type": "code",
   "execution_count": 9,
   "metadata": {},
   "outputs": [
    {
     "name": "stdout",
     "output_type": "stream",
     "text": [
      "100\n"
     ]
    }
   ],
   "source": [
    "print(70 + 30)"
   ]
  },
  {
   "cell_type": "code",
   "execution_count": 10,
   "metadata": {},
   "outputs": [
    {
     "name": "stdout",
     "output_type": "stream",
     "text": [
      "90\n"
     ]
    }
   ],
   "source": [
    "print(100-10)"
   ]
  },
  {
   "cell_type": "code",
   "execution_count": 11,
   "metadata": {},
   "outputs": [
    {
     "name": "stdout",
     "output_type": "stream",
     "text": [
      "50\n"
     ]
    }
   ],
   "source": [
    "print(10 * 5)"
   ]
  },
  {
   "cell_type": "code",
   "execution_count": null,
   "metadata": {},
   "outputs": [
    {
     "name": "stdout",
     "output_type": "stream",
     "text": [
      "5.0\n"
     ]
    }
   ],
   "source": [
    "# This is a rule in Python, that whenever we divide 2 numbers, answers will always be in float\n",
    "print(10 / 2)"
   ]
  },
  {
   "cell_type": "markdown",
   "metadata": {},
   "source": [
    "# String Concatentation\n",
    "\n",
    "This means combining two or more strings into one."
   ]
  },
  {
   "cell_type": "code",
   "execution_count": 31,
   "metadata": {},
   "outputs": [
    {
     "name": "stdout",
     "output_type": "stream",
     "text": [
      "JohnWilliamDoe\n"
     ]
    }
   ],
   "source": [
    "print(\"John\" + \"William\" + \"Doe\")"
   ]
  },
  {
   "cell_type": "code",
   "execution_count": 15,
   "metadata": {},
   "outputs": [
    {
     "name": "stdout",
     "output_type": "stream",
     "text": [
      "JohnWilliamDoe\n"
     ]
    }
   ],
   "source": [
    "first_name = 'John'\n",
    "middle_name = \"William\"\n",
    "last_name = 'Doe'\n",
    "\n",
    "print(first_name + middle_name + last_name)"
   ]
  },
  {
   "cell_type": "markdown",
   "metadata": {},
   "source": [
    "# Input from Users\n",
    "\n",
    "In this example, we use input() to ask the user for their name. After the user types their name and presses Enter, Python will store it in the variable name, and then it prints a greeting with their name"
   ]
  },
  {
   "cell_type": "code",
   "execution_count": null,
   "metadata": {},
   "outputs": [
    {
     "name": "stdout",
     "output_type": "stream",
     "text": [
      "Hello Ash\n"
     ]
    }
   ],
   "source": [
    "name = input(\"What is your name?\")\n",
    "print(\"Hello \" + name)\n",
    "\n",
    "# Take input of user's Favorite movie : Maze Runner\n",
    "# \"Your favorite movie is Maze Runner\"\n",
    "\n",
    "# I have to create a program for website, in which user will give input their name, and program will greet tbem as output."
   ]
  },
  {
   "cell_type": "markdown",
   "metadata": {},
   "source": [
    "# String"
   ]
  },
  {
   "cell_type": "code",
   "execution_count": 22,
   "metadata": {},
   "outputs": [
    {
     "name": "stdout",
     "output_type": "stream",
     "text": [
      "UzairUzair\n"
     ]
    }
   ],
   "source": [
    "first_name = \"Uzair\"\n",
    "last_name = 'Uzair'\n",
    "\n",
    "print(first_name + last_name)"
   ]
  },
  {
   "cell_type": "markdown",
   "metadata": {},
   "source": [
    "- String Indexing\n",
    "\n",
    "Each character in a string has a position, called an index. The first character is at index 0, the second is at index 1, and so on"
   ]
  },
  {
   "cell_type": "code",
   "execution_count": null,
   "metadata": {},
   "outputs": [
    {
     "name": "stdout",
     "output_type": "stream",
     "text": [
      "U\n",
      "z\n"
     ]
    }
   ],
   "source": [
    "name = \"UzairAshJohn\"\n",
    "\n",
    "# Indexing always starts from zero\n",
    "print(name[0])\n",
    "print(name[1])"
   ]
  },
  {
   "cell_type": "markdown",
   "metadata": {},
   "source": [
    "- String Slicing\n",
    "\n",
    "Slicing allows us to extract parts of a string. You can specify the start and end index, and Python will return the substring."
   ]
  },
  {
   "cell_type": "code",
   "execution_count": null,
   "metadata": {},
   "outputs": [
    {
     "name": "stdout",
     "output_type": "stream",
     "text": [
      "Ash\n"
     ]
    }
   ],
   "source": [
    "name = \"UzairAshJohn\"\n",
    "\n",
    "print(name[5:8]) # [start : end]"
   ]
  }
 ],
 "metadata": {
  "kernelspec": {
   "display_name": "Python 3",
   "language": "python",
   "name": "python3"
  },
  "language_info": {
   "codemirror_mode": {
    "name": "ipython",
    "version": 3
   },
   "file_extension": ".py",
   "mimetype": "text/x-python",
   "name": "python",
   "nbconvert_exporter": "python",
   "pygments_lexer": "ipython3",
   "version": "3.12.0"
  }
 },
 "nbformat": 4,
 "nbformat_minor": 2
}
