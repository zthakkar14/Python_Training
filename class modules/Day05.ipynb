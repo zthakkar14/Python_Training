{
 "cells": [
  {
   "cell_type": "markdown",
   "metadata": {},
   "source": [
    "# Conditions\n",
    "\n",
    "Python lets us write conditions to make decisions using if, elif, and else statements. It's like telling the program:\n",
    "'If this happens, do this. Otherwise, do something else."
   ]
  },
  {
   "cell_type": "markdown",
   "metadata": {},
   "source": [
    "#### if Statement:\n",
    "- The if statement checks a condition. If the condition is True, the code inside the if block will run.\n",
    "- The if statement is mandatory whenever you are working with conditions.\n",
    "- It is used to evaluate a condition, and if the condition is True, the block of code under the if statement will execute.\n",
    "\n",
    "\n",
    "#### elif Statement\n",
    "- The elif (short for \"else if\") statement is used to check multiple conditions in a sequential manner.\n",
    "- Only the first condition that evaluates to True is executed, and the rest are skipped.\n",
    "\n",
    "\n",
    "#### else Statement:\n",
    "- The else statement is optional, but it is a good practice to include it when you want to handle all scenarios that do not meet the if condition.\n"
   ]
  },
  {
   "cell_type": "code",
   "execution_count": null,
   "metadata": {},
   "outputs": [],
   "source": [
    "marks = 30\n",
    "\n",
    "if marks > 50: # False\n",
    "    print('Congrats')\n",
    "    \n",
    "else: # True\n",
    "    print('Fail')"
   ]
  },
  {
   "cell_type": "code",
   "execution_count": null,
   "metadata": {},
   "outputs": [],
   "source": [
    "# I will take input percentage from the student.\n",
    "# If percentage is greater than 80: A grade\n",
    "# If percentage is greater than 60: B grade\n",
    "# If percentage is greater than 50: C grade\n",
    "# Else: F grade"
   ]
  },
  {
   "cell_type": "code",
   "execution_count": 17,
   "metadata": {},
   "outputs": [],
   "source": [
    "percentage = int(input('Enter your percentage:')) # 55"
   ]
  },
  {
   "cell_type": "code",
   "execution_count": null,
   "metadata": {},
   "outputs": [
    {
     "name": "stdout",
     "output_type": "stream",
     "text": [
      "C grade\n"
     ]
    }
   ],
   "source": [
    "if percentage > 80: # False\n",
    "    print('A grade')\n",
    "    \n",
    "elif percentage > 60: # False\n",
    "    print('B grade')\n",
    "    \n",
    "elif percentage > 50: # True\n",
    "    print('C grade')\n",
    "\n",
    "else: \n",
    "    print('F grade')"
   ]
  },
  {
   "cell_type": "code",
   "execution_count": null,
   "metadata": {},
   "outputs": [
    {
     "name": "stdout",
     "output_type": "stream",
     "text": [
      "A grade\n"
     ]
    }
   ],
   "source": [
    "'''\n",
    "The first if statement checks if the percentage is greater than 80.  If this condition is true, it prints 'A grade'.\n",
    "\n",
    "\n",
    "However, the second if statement also checks if the percentage is greater than 50. \n",
    "Since both if statements are independent of each other, even if the percentage is greater than 80, \n",
    "it will still check the second if and print 'B grade' as well.\n",
    "\n",
    "\n",
    "The else statement is linked to the second if statement, so it only gets executed if the second if fails. \n",
    "'''\n",
    "\n",
    "percentage = int(input('Enter your percentage:')) \n",
    "\n",
    "if percentage > 80: \n",
    "    print('A grade')\n",
    "    \n",
    "if percentage > 50: \n",
    "    print('B grade')\n",
    "\n",
    "else: \n",
    "    print('F grade')"
   ]
  },
  {
   "cell_type": "code",
   "execution_count": null,
   "metadata": {},
   "outputs": [],
   "source": [
    "'''\n",
    "if statement: The first if statement checks if the percentage is greater than 80. If true, it prints 'A grade' \n",
    "and exits the condition checks. It will not proceed to the elif or else statements because only one condition \n",
    "is evaluated in the entire chain.\n",
    "\n",
    "\n",
    "elif statement: If the first condition fails (meaning the percentage is not greater than 80), it checks the elif condition. \n",
    "\n",
    "else statement: If neither the if nor the elif conditions are true, the code will reach the else block and print 'F grade'.\n",
    "'''\n",
    "\n",
    "percentage = int(input('Enter your percentage:')) \n",
    "\n",
    "if percentage > 80: \n",
    "    print('A grade')\n",
    "    \n",
    "elif percentage > 50: \n",
    "    print('B grade')\n",
    "\n",
    "else: \n",
    "    print('F grade')"
   ]
  },
  {
   "cell_type": "markdown",
   "metadata": {},
   "source": [
    "# Logical Operators in Conditions\n",
    "You can combine multiple conditions using logical operators:\n",
    "\n",
    "- and (both conditions must be true)\n",
    "- or (at least one condition must be true)"
   ]
  },
  {
   "cell_type": "code",
   "execution_count": null,
   "metadata": {},
   "outputs": [
    {
     "name": "stdout",
     "output_type": "stream",
     "text": [
      "You cannot watch the movie\n"
     ]
    }
   ],
   "source": [
    "# The and operator ensures both conditions must be True for the if block to execute.\n",
    "\n",
    "age = 15  # False \n",
    "has_ticket = True # Yes\n",
    "                \n",
    "if age > 18 and has_ticket == False:\n",
    "    print('You can watch the movie')\n",
    "    \n",
    "else:\n",
    "    print('You cannot watch the movie')"
   ]
  },
  {
   "cell_type": "code",
   "execution_count": null,
   "metadata": {},
   "outputs": [
    {
     "name": "stdout",
     "output_type": "stream",
     "text": [
      "You cannot watch the movie\n"
     ]
    }
   ],
   "source": [
    "# The or operator means only one of these conditions needs to be True for the if block to execute.\n",
    "\n",
    "age = 15   \n",
    "has_ticket = True \n",
    "\n",
    "    # False       False\n",
    "if age > 18 or has_ticket == False:\n",
    "    print('You can watch the movie')\n",
    "    \n",
    "else:\n",
    "    print('You cannot watch the movie')"
   ]
  }
 ],
 "metadata": {
  "kernelspec": {
   "display_name": "Python 3",
   "language": "python",
   "name": "python3"
  },
  "language_info": {
   "codemirror_mode": {
    "name": "ipython",
    "version": 3
   },
   "file_extension": ".py",
   "mimetype": "text/x-python",
   "name": "python",
   "nbconvert_exporter": "python",
   "pygments_lexer": "ipython3",
   "version": "3.12.0"
  }
 },
 "nbformat": 4,
 "nbformat_minor": 2
}
