{
 "cells": [
  {
   "cell_type": "markdown",
   "metadata": {},
   "source": [
    "# random Module"
   ]
  },
  {
   "cell_type": "markdown",
   "metadata": {},
   "source": [
    "- Generate random numbers\n",
    "- Select random items"
   ]
  },
  {
   "cell_type": "markdown",
   "metadata": {},
   "source": [
    "### Common and Imprtant functions from the random module"
   ]
  },
  {
   "cell_type": "markdown",
   "metadata": {},
   "source": [
    "1. To generate a random whole number between a and b (a and b both included)"
   ]
  },
  {
   "cell_type": "code",
   "execution_count": 5,
   "metadata": {},
   "outputs": [
    {
     "name": "stdout",
     "output_type": "stream",
     "text": [
      "Your random number is 5\n"
     ]
    }
   ],
   "source": [
    "import random\n",
    "\n",
    "# B/w 1 and 6  \n",
    "\n",
    "number = random.randint(1,6)  # a=1 and b=6\n",
    "print(f\"Your random number is {number}\")"
   ]
  },
  {
   "cell_type": "markdown",
   "metadata": {},
   "source": [
    "2. Generate a random decimal number between 0 and 1 (not including 1)"
   ]
  },
  {
   "cell_type": "code",
   "execution_count": 8,
   "metadata": {},
   "outputs": [
    {
     "name": "stdout",
     "output_type": "stream",
     "text": [
      "0.9316415594820658\n"
     ]
    }
   ],
   "source": [
    "decimal_number = random.random()\n",
    "print(decimal_number)"
   ]
  },
  {
   "cell_type": "markdown",
   "metadata": {},
   "source": [
    "3. Generate a random decimal number between a and b (both included.)"
   ]
  },
  {
   "cell_type": "code",
   "execution_count": 12,
   "metadata": {},
   "outputs": [
    {
     "name": "stdout",
     "output_type": "stream",
     "text": [
      "34.40053320448755\n"
     ]
    }
   ],
   "source": [
    "decimal = random.uniform(1, 100)\n",
    "print(decimal)"
   ]
  },
  {
   "cell_type": "markdown",
   "metadata": {},
   "source": [
    "### Real World Scenario 1:\n",
    "\n",
    "##### Selecting a lottery winner"
   ]
  },
  {
   "cell_type": "markdown",
   "metadata": {},
   "source": [
    "- Akanksha: 1\n",
    "- Zankar: 2\n",
    "- Uzair: 3\n",
    "- Rohit: 4\n",
    "- Ibrahim: 5"
   ]
  },
  {
   "cell_type": "code",
   "execution_count": 19,
   "metadata": {},
   "outputs": [
    {
     "name": "stdout",
     "output_type": "stream",
     "text": [
      "The winner of the lottery is Uzair\n"
     ]
    }
   ],
   "source": [
    "# List of Participants with their assigned numbers.\n",
    "\n",
    "participants = {\n",
    "    1 : 'Akanksha',\n",
    "    2 : 'Zankar',\n",
    "    3 : 'Uzair',\n",
    "    4 : 'Rohit',\n",
    "    5 : 'Ibrahim'\n",
    "}\n",
    "\n",
    "\n",
    "winner_number = random.randint(1,5)  # winner_number = 3\n",
    "\n",
    "winner_name = participants[winner_number]  # participants[3]\n",
    "\n",
    "print(f\"The winner of the lottery is {winner_name}\")\n"
   ]
  },
  {
   "cell_type": "markdown",
   "metadata": {},
   "source": [
    "4. Pick random item from a sequence (like a list, tuple or strings)"
   ]
  },
  {
   "cell_type": "code",
   "execution_count": 23,
   "metadata": {},
   "outputs": [
    {
     "name": "stdout",
     "output_type": "stream",
     "text": [
      "Green\n"
     ]
    }
   ],
   "source": [
    "color = ['Red', 'Blue', 'Green', 'Yellow']\n",
    "\n",
    "random_color = random.choice(color)\n",
    "\n",
    "print(random_color)"
   ]
  },
  {
   "cell_type": "markdown",
   "metadata": {},
   "source": [
    "5. Selects n random items from a sequence without repeating any item."
   ]
  },
  {
   "cell_type": "code",
   "execution_count": 29,
   "metadata": {},
   "outputs": [
    {
     "name": "stdout",
     "output_type": "stream",
     "text": [
      "['A', 'D', 'B', 'E']\n"
     ]
    }
   ],
   "source": [
    "text = ['A', 'B', 'C', 'D', 'E', 'F']\n",
    "\n",
    "selection = random.sample(text,3)\n",
    "print(selection)"
   ]
  },
  {
   "cell_type": "markdown",
   "metadata": {},
   "source": [
    "6. Randomly shufflues the item in a list."
   ]
  },
  {
   "cell_type": "code",
   "execution_count": 31,
   "metadata": {},
   "outputs": [
    {
     "name": "stdout",
     "output_type": "stream",
     "text": [
      "[4, 'King', 8, 1, 2, 'Jack', 3, 9, 7, 5, 'Aces', 6, 'Queen']\n"
     ]
    }
   ],
   "source": [
    "cards = [1, 2, 3, 4, 5, 6, 7, 8, 9, 'King', 'Queen', 'Jack', 'Aces']\n",
    "\n",
    "random.shuffle(cards)\n",
    "\n",
    "print(cards)"
   ]
  },
  {
   "cell_type": "markdown",
   "metadata": {},
   "source": [
    "### Real World Scenario 2\n",
    "\n",
    "##### Randomizing a Quiz Question"
   ]
  },
  {
   "cell_type": "code",
   "execution_count": 33,
   "metadata": {},
   "outputs": [
    {
     "name": "stdout",
     "output_type": "stream",
     "text": [
      "['What is the capital of France', 'Who wrote Harry Potter?', 'What is the speed of light?']\n"
     ]
    }
   ],
   "source": [
    "questions = [\n",
    "    'What is the capital of France',\n",
    "    'What is 2 + 2',\n",
    "    'Who wrote Harry Potter?',\n",
    "    'What is the speed of light?',\n",
    "    'Who is current President of US?'\n",
    "]\n",
    "\n",
    "random_question = random.sample(questions, 3)\n",
    "print(random_question)"
   ]
  },
  {
   "cell_type": "markdown",
   "metadata": {},
   "source": [
    "# math module"
   ]
  },
  {
   "cell_type": "markdown",
   "metadata": {},
   "source": [
    "- To perform advance mathematical operations."
   ]
  },
  {
   "cell_type": "markdown",
   "metadata": {},
   "source": [
    "1. Square root of a number"
   ]
  },
  {
   "cell_type": "code",
   "execution_count": 35,
   "metadata": {},
   "outputs": [
    {
     "name": "stdout",
     "output_type": "stream",
     "text": [
      "The square root of 4 is 2\n"
     ]
    }
   ],
   "source": [
    "import math\n",
    "\n",
    "number = 4\n",
    "\n",
    "result = int(math.sqrt(number))\n",
    "\n",
    "print(f'The square root of {number} is {result}')"
   ]
  },
  {
   "cell_type": "markdown",
   "metadata": {},
   "source": [
    "2. Calculate x raised to the power of y."
   ]
  },
  {
   "cell_type": "code",
   "execution_count": 37,
   "metadata": {},
   "outputs": [
    {
     "name": "stdout",
     "output_type": "stream",
     "text": [
      "4 raised to the power of 2 is 16\n"
     ]
    }
   ],
   "source": [
    "base = 4\n",
    "exponent = 2\n",
    "\n",
    "result = int(math.pow(base, exponent))\n",
    "print(f\"{base} raised to the power of {exponent} is {result}\")"
   ]
  },
  {
   "cell_type": "code",
   "execution_count": 38,
   "metadata": {},
   "outputs": [
    {
     "name": "stdout",
     "output_type": "stream",
     "text": [
      "The value of pi is 3.141592653589793\n"
     ]
    }
   ],
   "source": [
    "# pi values = 3.14159\n",
    "\n",
    "print('The value of pi is', math.pi)"
   ]
  },
  {
   "cell_type": "markdown",
   "metadata": {},
   "source": [
    "4. Floor and Ceiling\n"
   ]
  },
  {
   "cell_type": "markdown",
   "metadata": {},
   "source": [
    "- floor() rounds a number down to the nearest integer."
   ]
  },
  {
   "cell_type": "code",
   "execution_count": 1,
   "metadata": {},
   "outputs": [],
   "source": [
    "import math"
   ]
  },
  {
   "cell_type": "code",
   "execution_count": 4,
   "metadata": {},
   "outputs": [
    {
     "name": "stdout",
     "output_type": "stream",
     "text": [
      "4\n"
     ]
    }
   ],
   "source": [
    "num = 4.9\n",
    "\n",
    "rounded_down = math.floor(num)\n",
    "\n",
    "print(rounded_down)"
   ]
  },
  {
   "cell_type": "markdown",
   "metadata": {},
   "source": [
    "- ceil() rounds a number up to the nearest integer."
   ]
  },
  {
   "cell_type": "code",
   "execution_count": 5,
   "metadata": {},
   "outputs": [
    {
     "name": "stdout",
     "output_type": "stream",
     "text": [
      "4\n"
     ]
    }
   ],
   "source": [
    "num = 3.3\n",
    "\n",
    "rounded_up = math.ceil(num)\n",
    "\n",
    "print(rounded_up)"
   ]
  },
  {
   "cell_type": "markdown",
   "metadata": {},
   "source": [
    "5. Absolute value\n",
    "\n",
    "Return the absolute value of a number (always positive)"
   ]
  },
  {
   "cell_type": "code",
   "execution_count": 8,
   "metadata": {},
   "outputs": [
    {
     "name": "stdout",
     "output_type": "stream",
     "text": [
      "1000.0\n"
     ]
    }
   ],
   "source": [
    "num = -1000\n",
    "\n",
    "abs_value = math.fabs(num)\n",
    "\n",
    "print(abs_value)\n",
    "\n",
    "# Absolute value ignores the sign of a number and makes it positive."
   ]
  },
  {
   "cell_type": "markdown",
   "metadata": {},
   "source": [
    "6. Trigonometric Functions (sin, cos, tan)"
   ]
  },
  {
   "cell_type": "markdown",
   "metadata": {},
   "source": [
    "- sin(angle) : FInd the sine of an angle in randians."
   ]
  },
  {
   "cell_type": "code",
   "execution_count": 10,
   "metadata": {},
   "outputs": [
    {
     "name": "stdout",
     "output_type": "stream",
     "text": [
      "0.49999999999999994\n"
     ]
    }
   ],
   "source": [
    "angle = math.radians(30)\n",
    "\n",
    "sine_value = math.sin(angle)  \n",
    "# math.cos(angle)\n",
    "# math.tan(angle)\n",
    "\n",
    "print(sine_value)"
   ]
  },
  {
   "cell_type": "markdown",
   "metadata": {},
   "source": [
    "- Logarithms \n",
    "\n",
    "Use to calculate logarithms of numbers."
   ]
  },
  {
   "cell_type": "code",
   "execution_count": 11,
   "metadata": {},
   "outputs": [
    {
     "name": "stdout",
     "output_type": "stream",
     "text": [
      "2.0\n"
     ]
    }
   ],
   "source": [
    "num = 100\n",
    "\n",
    "log_base_10 = math.log10(num)\n",
    "\n",
    "print(log_base_10)"
   ]
  },
  {
   "cell_type": "code",
   "execution_count": null,
   "metadata": {},
   "outputs": [],
   "source": []
  }
 ],
 "metadata": {
  "kernelspec": {
   "display_name": "Python 3",
   "language": "python",
   "name": "python3"
  },
  "language_info": {
   "codemirror_mode": {
    "name": "ipython",
    "version": 3
   },
   "file_extension": ".py",
   "mimetype": "text/x-python",
   "name": "python",
   "nbconvert_exporter": "python",
   "pygments_lexer": "ipython3",
   "version": "3.12.0"
  }
 },
 "nbformat": 4,
 "nbformat_minor": 2
}
